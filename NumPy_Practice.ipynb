{
 "cells": [
  {
   "cell_type": "code",
   "execution_count": 40,
   "metadata": {},
   "outputs": [],
   "source": [
    "#YT Vid-1 By codebasics"
   ]
  },
  {
   "cell_type": "code",
   "execution_count": 41,
   "metadata": {},
   "outputs": [
    {
     "data": {
      "text/plain": [
       "dtype('int32')"
      ]
     },
     "execution_count": 41,
     "metadata": {},
     "output_type": "execute_result"
    }
   ],
   "source": [
    "import numpy as np\n",
    "\n",
    "a = np.array([[1,2],[3,4],[5,6]])\n",
    "\n",
    "a.ndim #it provide the dimension of the array\n",
    "a.itemsize # it gives how much memory takes by each element.\n",
    "\n",
    "a.dtype # it provides data types of each element. by difult it is int32 by it can be change by defining data type when the array is created.\n",
    "\n"
   ]
  },
  {
   "cell_type": "markdown",
   "metadata": {},
   "source": [
    "Array size"
   ]
  },
  {
   "cell_type": "code",
   "execution_count": 42,
   "metadata": {},
   "outputs": [
    {
     "data": {
      "text/plain": [
       "(3, 2)"
      ]
     },
     "execution_count": 42,
     "metadata": {},
     "output_type": "execute_result"
    }
   ],
   "source": [
    "a.size # it pprovides total elements number\n",
    "\n",
    "a.shape # it provides the shape of the array in this case the shape is 3x2"
   ]
  },
  {
   "cell_type": "markdown",
   "metadata": {},
   "source": [
    "Creating array with only 0 or 1 or a 1D array with a range and step\n"
   ]
  },
  {
   "cell_type": "code",
   "execution_count": 43,
   "metadata": {},
   "outputs": [
    {
     "data": {
      "text/plain": [
       "array([ 1.,  2.,  3.,  4.,  5.,  6.,  7.,  8.,  9., 10.])"
      ]
     },
     "execution_count": 43,
     "metadata": {},
     "output_type": "execute_result"
    }
   ],
   "source": [
    "np.zeros((3,3)) # it will create a 3x3 array with all element value zero like np.zeros((shape))\n",
    "\n",
    "np.ones((3,3)) # it will create a 3x3 array with all element value one like np.ones((shape))\n",
    "\n",
    "np.arange(10) #it will create a 1D array in the range of 1 to 9 like np.arange(strat,end, step) if start value is not provided it automatically start from 0\n",
    "              # is start value is not defined we can not use step size\n",
    "\n",
    "np.linspace(1,10,10) #it will create and 1D array from strat value to end value and here 20 is the how much number I want in the range and all the numbers are linearly spaced."
   ]
  },
  {
   "cell_type": "markdown",
   "metadata": {},
   "source": [
    "#### Changing the shape of the array.\n",
    "\n",
    "it will not affact the original array. it will provide a new array from the given array with the new shape"
   ]
  },
  {
   "cell_type": "code",
   "execution_count": 44,
   "metadata": {},
   "outputs": [
    {
     "data": {
      "text/plain": [
       "array([1, 2, 3, 4, 5, 6])"
      ]
     },
     "execution_count": 44,
     "metadata": {},
     "output_type": "execute_result"
    }
   ],
   "source": [
    "a.reshape(2,3) # it make the array 'a' from the dimension 3x2 to 2x3\n",
    "\n",
    "np.ravel(a) # it will make the array into 1D array whatever the shape is"
   ]
  },
  {
   "cell_type": "markdown",
   "metadata": {},
   "source": [
    "#### NumPy basic math operation"
   ]
  },
  {
   "cell_type": "code",
   "execution_count": 45,
   "metadata": {},
   "outputs": [
    {
     "data": {
      "text/plain": [
       "array([[ 24,  27,  30],\n",
       "       [ 54,  61,  68],\n",
       "       [ 84,  95, 106]])"
      ]
     },
     "execution_count": 45,
     "metadata": {},
     "output_type": "execute_result"
    }
   ],
   "source": [
    "b= np.array([6,7,8,9,10,11])\n",
    "\n",
    "b+1 # it will add 1 to all element\n",
    "\n",
    "b-1 # it will substract 1 from all element\n",
    "\n",
    "b*1 # it will multiple all element by 1\n",
    "\n",
    "b/1 # it will divide all element by 1\n",
    "\n",
    "b**2 # it will make square of all element.\n",
    "\n",
    "np.sqrt(b) #it will make square root of all elements\n",
    "\n",
    "np.sum(a) # it will provide sum of all elements in the array\n",
    "\n",
    "np.min(a) # it gives the minimum number of the array\n",
    "\n",
    "np.max(a) #it will give maximum number of the array\n",
    "\n",
    "np.std(a) # it gives the standared daviasion of the array\n",
    "b = b.reshape((3,2))\n",
    "\n",
    "a +b #it makes a elemnt wise addition of a and b\n",
    "a-b # it makes a element wise substraction of a and b\n",
    "a*b #it makes a element wise multiplication of a and b\n",
    "a/b # it makes a element wise division of a and b\n",
    "\n",
    "b=b.reshape(2,3)\n",
    "a.dot(b) # it gives the vector multiplicaiton of a and b"
   ]
  },
  {
   "cell_type": "markdown",
   "metadata": {},
   "source": [
    "### array copying\n",
    "normally when we assing the array to new varible like copy_a = a copy_a not become a separate array but it will follow the orginal array. any change in the a or copy_a make a change in both. So to avoide this type of things we need to use np.copy(name_of_array) command. this way both array will not connected to each other.\n",
    "\n",
    "### array concatenation\n",
    "In the same manner sometimes we need to join two array into a new array for this purpose we need to use np.concatenate((array1, array2)). important thing is that both array must be in same shape.\n",
    "\n",
    "### array spliting\n",
    "it is the opposite of concatenation. for that command is np.split(array, no._of_equally_sized_subarray) no_of_equally_sized_subarray must be less than no of total element of the main array"
   ]
  },
  {
   "cell_type": "code",
   "execution_count": 46,
   "metadata": {},
   "outputs": [
    {
     "data": {
      "text/plain": [
       "[array([[1, 2]]),\n",
       " array([[3, 4]]),\n",
       " array([[5, 6]]),\n",
       " array([[6, 7]]),\n",
       " array([[8, 9]]),\n",
       " array([[10, 11]])]"
      ]
     },
     "execution_count": 46,
     "metadata": {},
     "output_type": "execute_result"
    }
   ],
   "source": [
    "copy_a = np.copy(a)\n",
    "copy_a[1] = [3,3]\n",
    "copy_a # no effect on the original array 'a'\n",
    "\n",
    "\n",
    "\n",
    "join_a_b = np.concatenate((a,b.reshape(3,2)))\n",
    "join_a_b # array1 and array2 must be in same shape and must be write in the above formate\n",
    "\n",
    "split_join_a_b = np.split(join_a_b,6)\n",
    "split_join_a_b"
   ]
  },
  {
   "cell_type": "markdown",
   "metadata": {},
   "source": [
    "### adding or removing elements\n",
    "to add a new elements in the array we need to use the command as np.append(array, element_that_need_to_add) it will add the value at the end of the array.\n",
    "\n",
    "but if we want to add the value at a certain position then we need to use the insert commant like np.insert(array, position/index, element) it will add the element in the desire position.\n",
    "\n",
    "\n",
    "Now for removing a element from a spacific index we need to use the command as np.delete(array_name, position)"
   ]
  },
  {
   "cell_type": "code",
   "execution_count": 54,
   "metadata": {},
   "outputs": [
    {
     "data": {
      "text/plain": [
       "array([1, 2, 3, 4, 5, 6])"
      ]
     },
     "execution_count": 54,
     "metadata": {},
     "output_type": "execute_result"
    }
   ],
   "source": [
    "new_append = np.append(np.ravel(a),[1,2,3])\n",
    "\n",
    "new_append = np.insert(new_append, 2 , [22,22])\n",
    "\n",
    "old_joint_a_b = np.delete(new_append,(2,3,8,9,10))\n",
    "\n",
    "old_joint_a_b"
   ]
  },
  {
   "cell_type": "markdown",
   "metadata": {},
   "source": [
    "### Array slicing, stacking, indexing with boolean array\n",
    "\n",
    "for spliting a array into n number(n < total number of element) of sub array we need to use the commant np.split(array_name, no_of_subarray). also the number of split san evenly divide the size of the array along the given axis\n",
    "\n",
    "we can slicie an array to view a certain part of the array. for this the command is array[start:end]. note that this slicied array is still refering the main array so if we need to change or modified the slicied array then we need to make a copy using the .copy() function."
   ]
  },
  {
   "cell_type": "code",
   "execution_count": 57,
   "metadata": {},
   "outputs": [
    {
     "data": {
      "text/plain": [
       "array([2, 3])"
      ]
     },
     "execution_count": 57,
     "metadata": {},
     "output_type": "execute_result"
    }
   ],
   "source": [
    "new_a = np.ravel(a)\n",
    "\n",
    "np.split(new_a,3)\n",
    "\n",
    "new_a[1:3]\n"
   ]
  },
  {
   "cell_type": "markdown",
   "metadata": {},
   "source": [
    "### math operation \n",
    "\n",
    "numpy offers a verious math operation "
   ]
  },
  {
   "cell_type": "code",
   "execution_count": null,
   "metadata": {},
   "outputs": [],
   "source": []
  }
 ],
 "metadata": {
  "kernelspec": {
   "display_name": "Python 3",
   "language": "python",
   "name": "python3"
  },
  "language_info": {
   "codemirror_mode": {
    "name": "ipython",
    "version": 3
   },
   "file_extension": ".py",
   "mimetype": "text/x-python",
   "name": "python",
   "nbconvert_exporter": "python",
   "pygments_lexer": "ipython3",
   "version": "3.11.5"
  }
 },
 "nbformat": 4,
 "nbformat_minor": 2
}
